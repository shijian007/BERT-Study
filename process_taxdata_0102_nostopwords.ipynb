{
 "cells": [
  {
   "cell_type": "code",
   "execution_count": 1,
   "metadata": {},
   "outputs": [],
   "source": [
    "import xlrd\n",
    "import os\n",
    "import random\n",
    "import jieba\n",
    "import pickle\n",
    "from collections import Counter"
   ]
  },
  {
   "cell_type": "code",
   "execution_count": 2,
   "metadata": {},
   "outputs": [],
   "source": [
    "workbook = xlrd.open_workbook(r'./data/taxdata3_3.xlsx')\n",
    "\n",
    "# 获取第1张表\n",
    "sheet1 = workbook.sheet_by_index(0)\n",
    "sheet1_cols0 = sheet1.col_values(0) \n",
    "sheet1_cols1 = sheet1.col_values(1) \n",
    "sheet1_cols2 = sheet1.col_values(2) \n",
    "sheet1_cols3 = sheet1.col_values(3) \n",
    "sheet1_class_list = sheet1.col_values(4)\n",
    "sheet1_class_list = sheet1_class_list[1:]\n",
    "sheet1_col_length = len(sheet1_cols0)\n",
    "raw_data1_list = []\n",
    "for i in range(1, sheet1_col_length):\n",
    "    k = sheet1_cols0[i] + sheet1_cols1[i] + sheet1_cols2[i] + sheet1_cols3[i]\n",
    "    raw_data1_list.append(k.replace(\"\\n\",\"\"))\n",
    "\n",
    "# 获取第2张表\n",
    "sheet2 = workbook.sheet_by_index(1)\n",
    "sheet2_cols0 = sheet2.col_values(0) \n",
    "sheet2_cols1 = sheet2.col_values(1) \n",
    "sheet2_cols2 = sheet2.col_values(2) \n",
    "sheet2_cols3 = sheet2.col_values(3) \n",
    "sheet2_class_list = sheet2.col_values(4)\n",
    "sheet2_class_list = sheet2_class_list[1:]\n",
    "sheet2_col_length = len(sheet2_cols0)\n",
    "raw_data2_list = []\n",
    "for i in range(1, sheet2_col_length):\n",
    "    k = sheet2_cols0[i] + sheet2_cols1[i] + sheet2_cols2[i] + sheet2_cols3[i]\n",
    "    raw_data2_list.append(k.replace(\"\\n\",\"\"))\n",
    "\n",
    "# 获取第3张表\n",
    "sheet3 = workbook.sheet_by_index(2)\n",
    "sheet3_cols0 = sheet3.col_values(0) \n",
    "sheet3_cols1 = sheet3.col_values(1) \n",
    "sheet3_cols2 = sheet3.col_values(2) \n",
    "sheet3_cols3 = sheet3.col_values(3) \n",
    "sheet3_class_list = sheet3.col_values(4)\n",
    "sheet3_class_list = sheet3_class_list[1:]\n",
    "sheet3_col_length = len(sheet3_cols0)\n",
    "raw_data3_list = []\n",
    "for i in range(1, sheet3_col_length):\n",
    "    k = sheet3_cols0[i] + sheet3_cols1[i] + sheet3_cols2[i] + sheet3_cols3[i]\n",
    "    raw_data3_list.append(k.replace(\"\\n\",\"\"))\n",
    "\n",
    "#data 集合\n",
    "raw_data_list = []\n",
    "raw_data_list.extend(raw_data1_list)\n",
    "raw_data_list.extend(raw_data2_list)\n",
    "raw_data_list.extend(raw_data3_list)\n",
    "\n",
    "#class 集合\n",
    "class_list = []\n",
    "class_list.extend(sheet1_class_list)\n",
    "class_list.extend(sheet2_class_list)\n",
    "class_list.extend(sheet3_class_list)"
   ]
  },
  {
   "cell_type": "code",
   "execution_count": 3,
   "metadata": {},
   "outputs": [
    {
     "name": "stdout",
     "output_type": "stream",
     "text": [
      "class type total: 4\n"
     ]
    }
   ],
   "source": [
    "'''\n",
    "综合税种=综合，两个类的、所得税=综合，发票管理、发票管理管理=发票，财务类=企业会计准则，财务类，\n",
    "个税=个人所得税，环境保护税=环保税，土地使用税=城镇土地使用税，\n",
    "教育费附加、城建税、教育费附加=附加税费，\n",
    "出口退税=进出口税收，税收风险=税务风险\n",
    "'''\n",
    "for i in range(len(class_list)):\n",
    "    if class_list[i] == '' or class_list[i] == '工业企业':\n",
    "        class_list[i] = \"未分类\"\n",
    "    if class_list[i]=='综合税种' or class_list[i]=='多税种' or class_list[i]=='所得税' or (' ' in class_list[i]) or ('，' in class_list[i]) or ('、' in class_list[i]) or ('\\u3000' in class_list[i]):\n",
    "        class_list[i] = \"综合\"\n",
    "    class_list[i] = class_list[i].replace(' ', '')\n",
    "    class_list[i] = class_list[i].replace('\\n', '')\n",
    "    if class_list[i] == '发票管理' or class_list[i] == '发票管理管理':\n",
    "        class_list[i] = \"发票\"\n",
    "    if class_list[i] == '企业会计准则，财务类':\n",
    "        class_list[i] = \"财务类\"\n",
    "    if class_list[i] == '土地使用税':\n",
    "        class_list[i] = \"城镇土地使用税\"\n",
    "    if class_list[i] == '附加税' or class_list[i] == '教育费附加' or class_list[i] == '城建税':\n",
    "        class_list[i] = \"附加税费\"\n",
    "    if class_list[i] == '出口退税':\n",
    "        class_list[i] = \"进出口税收\"   \n",
    "    if class_list[i] == '税收风险':\n",
    "        class_list[i] = \"税务风险\"\n",
    "    if class_list[i] == '印花':\n",
    "        class_list[i] = \"印花税\"\n",
    "    if class_list[i] == '纳税社保' or class_list[i] == '社保' or class_list[i] == '个税' or class_list[i] == '个人所得说' or class_list[i] == '新个税':\n",
    "        class_list[i] = \"个人所得税\"   \n",
    "    if class_list[i] == '营改增' or class_list[i] == '增值况':\n",
    "        class_list[i] = \"增值税\"    \n",
    "    if class_list[i] == '环保税':\n",
    "        class_list[i] = \"环境保护税\" \n",
    "    if class_list[i] == '企业所得呼'or class_list[i] == '企业所得税法':\n",
    "        class_list[i] = \"企业所得税\" \n",
    "    if class_list[i] == '土增税':\n",
    "        class_list[i] = \"土地增值税\"\n",
    "    if class_list[i] == '营改增':\n",
    "        class_list[i] = \"增值税\"\n",
    "    if class_list[i] == '税收优惠' or class_list[i] == '税务登记' or class_list[i] == '税务风险' or class_list[i] == '税务变更' or class_list[i] == '税务注销' or class_list[i] == '税务征管':\n",
    "        class_list[i] = \"税收征管\"\n",
    "    if class_list[i] == '申报征收':\n",
    "        class_list[i] = '纳税申报'\n",
    "    if class_list[i] == '关税':\n",
    "        class_list[i] = \"涉外税收\"\n",
    "        \n",
    "c = Counter(class_list)\n",
    "topn_class = 4       #取最多class的类别\n",
    "data_number = 1001     #取data数目\n",
    "class_type_list = [k[0] for k in c.most_common(topn_class)]\n",
    "class_type_len = len(list(c.most_common(topn_class)))\n",
    "print(\"class type total:\", class_type_len)\n",
    "\n",
    "data_class_list = list(zip(raw_data_list, class_list))  # zip压缩合并，将数据与标签对应压缩\n",
    "random.shuffle(data_class_list)  # 将data_class_list乱序 \n",
    "raw_data_list, class_list = zip(*data_class_list)  \n",
    "\n",
    "\n",
    "#取最多类别的前n个样本\n",
    "new_class_list = []\n",
    "new_data_list = []\n",
    "#todo: 每个类别取k个样本试试看\n",
    "count_n = [1 for i in range(class_type_len)]        \n",
    "for i in range(class_type_len):\n",
    "    for j in range(len(class_list)):\n",
    "        if class_list[j] == class_type_list[i] and count_n[i] < data_number:\n",
    "            new_class_list.append(class_list[j])\n",
    "            new_data_list.append(raw_data_list[j])\n",
    "            count_n[i] += 1"
   ]
  },
  {
   "cell_type": "code",
   "execution_count": 4,
   "metadata": {
    "scrolled": true
   },
   "outputs": [
    {
     "data": {
      "text/plain": [
       "[('企业所得税', 2502),\n",
       " ('增值税', 2428),\n",
       " ('个人所得税', 1611),\n",
       " ('综合', 1055),\n",
       " ('发票', 854),\n",
       " ('税收征管', 759),\n",
       " ('财务类', 621),\n",
       " ('印花税', 418),\n",
       " ('房产税', 309),\n",
       " ('进出口税收', 294),\n",
       " ('消费税', 239),\n",
       " ('契税', 214),\n",
       " ('未分类', 213),\n",
       " ('土地增值税', 210)]"
      ]
     },
     "execution_count": 4,
     "metadata": {},
     "output_type": "execute_result"
    }
   ],
   "source": [
    "c.most_common(14)"
   ]
  },
  {
   "cell_type": "code",
   "execution_count": 5,
   "metadata": {},
   "outputs": [
    {
     "name": "stdout",
     "output_type": "stream",
     "text": [
      "['企业所得税', '企业所得税']\n",
      "['企业发生的哪些成本可以在企业所得税税前扣除？    根据《中华人民共和国企业所得税法实施条例》(中华人民共和国国务院令2007年第512号)第二十九条规定：“企业所得税法第八条所称成本，是指企业在生产经营活动中发生的销售成本、销货成本、业务支出以及其他耗费。”   ——国务院令2007年第512号《中华人民共和国企业所得税法实施条例》第二十九条', '对中国保险保障基金有限责任公司哪些收入免征企业所得税？    根据《财政部 税务总局关于保险保障基金有关税收政策问题的通知》(财税〔2018〕41号)规定：“一、对中国保险保障基金有限责任公司(以下简称保险保障基金公司)根据《保险保障基金管理办法》(以下简称《管理办法》)取得的下列收入，免征企业所得税：\\u3000\\u30001.境内保险公司依法缴纳的保险保障基金；\\u3000\\u30002.依法从撤销或破产保险公司清算财产中获得的受偿收入和向有关责任方追偿所得，以及依法从保险公司风险处置中获得的财产转让所得；\\u3000\\u30003.接受捐赠收入；\\u3000\\u30004.银行存款利息收入；\\u3000\\u30005.购买政府债券、中央银行、中央企业和中央级金融机构发行债券的利息收入；\\u3000\\u30006.国务院批准的其他资金运用取得的收入。”——财税〔2018〕41号《财政部 税务总局关于保险保障基金有关税收政策问题的通知》']\n"
     ]
    }
   ],
   "source": [
    "print(new_class_list[199:201])\n",
    "print(new_data_list[199:201])"
   ]
  },
  {
   "cell_type": "code",
   "execution_count": 6,
   "metadata": {},
   "outputs": [
    {
     "name": "stderr",
     "output_type": "stream",
     "text": [
      "Building prefix dict from the default dictionary ...\n",
      "Dumping model to file cache /var/folders/wn/7md2z8rj1td41mc56_6lr3jr0000gn/T/jieba.cache\n",
      "Loading model cost 1.020 seconds.\n",
      "Prefix dict has been built succesfully.\n"
     ]
    }
   ],
   "source": [
    "#分词\n",
    "new_data_list_cut = []\n",
    "rowlength = len(new_data_list)\n",
    "for i in range(rowlength):\n",
    "    word_cut = jieba.cut(new_data_list[i], cut_all=False)\n",
    "    word_list = list(word_cut) \n",
    "    new_data_list_cut.append(word_list)\n"
   ]
  },
  {
   "cell_type": "code",
   "execution_count": 7,
   "metadata": {},
   "outputs": [],
   "source": [
    "def MakeWordsSet(words_file):\n",
    "    words_set = set()  \n",
    "    with open(words_file, 'r', encoding='utf-8') as f:  \n",
    "        for line in f.readlines():  \n",
    "            word = line.strip()  \n",
    "            if len(word) > 0:  \n",
    "                words_set.add(word)\n",
    "    return words_set  "
   ]
  },
  {
   "cell_type": "code",
   "execution_count": 8,
   "metadata": {},
   "outputs": [],
   "source": [
    "def words_dict(new_data_list, stopwords_set=set()):\n",
    "    data_featrue_list = []  \n",
    "    for t in range(1, len(new_data_list)):\n",
    "        # 如果不是指定的结束语，并且单词长度大于1小于5，作为特征词\n",
    "        if new_data_list[t] not in stopwords_set and 1 < len(new_data_list[t]) < 5:\n",
    "            data_featrue_list.append(new_data_list[t])\n",
    "    return data_featrue_list"
   ]
  },
  {
   "cell_type": "code",
   "execution_count": 9,
   "metadata": {},
   "outputs": [],
   "source": [
    "# 生成stopwords_set\n",
    "stopwords_file = './data/stopwords_cn.txt'\n",
    "stopwords_set = MakeWordsSet(stopwords_file)\n"
   ]
  },
  {
   "cell_type": "code",
   "execution_count": 10,
   "metadata": {},
   "outputs": [],
   "source": [
    "data_featrue_list = []\n",
    "for i in range(len(new_data_list_cut)):\n",
    "    data_featrue = words_dict(new_data_list_cut[i], stopwords_set)\n",
    "    data_featrue_list.append(data_featrue)"
   ]
  },
  {
   "cell_type": "code",
   "execution_count": 11,
   "metadata": {},
   "outputs": [],
   "source": [
    "# print(new_class_list[199:201])\n",
    "# print(data_featrue_list[199:201])"
   ]
  },
  {
   "cell_type": "code",
   "execution_count": 12,
   "metadata": {},
   "outputs": [
    {
     "data": {
      "text/plain": [
       "[('企业所得税', 1000), ('增值税', 1000), ('个人所得税', 1000), ('综合', 1000)]"
      ]
     },
     "execution_count": 12,
     "metadata": {},
     "output_type": "execute_result"
    }
   ],
   "source": [
    "cc = Counter(new_class_list)\n",
    "cc.most_common()"
   ]
  },
  {
   "cell_type": "code",
   "execution_count": 16,
   "metadata": {},
   "outputs": [
    {
     "data": {
      "text/plain": [
       "'企业所得税'"
      ]
     },
     "execution_count": 16,
     "metadata": {},
     "output_type": "execute_result"
    }
   ],
   "source": [
    "new_class_list[9]"
   ]
  },
  {
   "cell_type": "code",
   "execution_count": 13,
   "metadata": {},
   "outputs": [],
   "source": [
    "data_class_list = list(zip(data_featrue_list, new_class_list))  # zip压缩合并，将数据与标签对应压缩\n",
    "random.shuffle(data_class_list)  # 将data_class_list乱序\n",
    "index = int(len(data_class_list) * 0.25) + 1  # 训练集和测试集切分的索引值\n",
    "train_list = data_class_list[index:]  # 训练集\n",
    "test_list = data_class_list[:index]  # 测试集\n",
    "train_data_list, train_class_list = zip(*train_list)  # 训练集解压缩\n",
    "test_data_list, test_class_list = zip(*test_list)  # 测试集解压缩"
   ]
  },
  {
   "cell_type": "code",
   "execution_count": 19,
   "metadata": {
    "scrolled": true
   },
   "outputs": [
    {
     "name": "stdout",
     "output_type": "stream",
     "text": [
      "4000\n",
      "4000\n"
     ]
    }
   ],
   "source": [
    "print(len(data_featrue_list))\n",
    "print(len(new_class_list))"
   ]
  },
  {
   "cell_type": "code",
   "execution_count": 39,
   "metadata": {},
   "outputs": [
    {
     "name": "stdout",
     "output_type": "stream",
     "text": [
      "[['国税', '16', '汇算', '答疑', '购买', '预付卡', '相关', '内部', '外部', '凭证', '证明', '预付卡', '所有权', '发生', '转移', '按规定', '进行', '税前', '扣除', '政策', '是否', '全国', '引用', '是否', '全国性', '文件', '描述', '政策', '属于', '地方', '省市', '税务机关', '解答', '没有', '正式', '文件', '税务总局', '没有', '明确', '全国', '引用', '各地', '税务机关', '实际', '情况', '征管', '作出', '要求', '了解', '目前', '实务', '倾向', '天津', '国税', '答复', '方式', '操作', '企业', '税务机关', '没有', '统一', '明确', '建议', '税务机关', '要求', '为准'], '企业所得税']\n"
     ]
    }
   ],
   "source": [
    "print([data_featrue_list[i], new_class_list[4]])"
   ]
  },
  {
   "cell_type": "code",
   "execution_count": 74,
   "metadata": {},
   "outputs": [],
   "source": [
    "train_data = []\n",
    "train_data.append([\"content\", \"label\"])\n",
    "for i in range(len(train_data_list)):\n",
    "    k = ''.join(train_data_list[i])\n",
    "    train_data.append([k, train_class_list[i]])"
   ]
  },
  {
   "cell_type": "code",
   "execution_count": 75,
   "metadata": {},
   "outputs": [
    {
     "data": {
      "text/plain": [
       "[['content', 'label'],\n",
       " ['公司一个小型联欢会账务处理福利费费用认同职工文艺活动经费职工福利开支分录管理费用职工福利费银行存款', '企业所得税']]"
      ]
     },
     "execution_count": 75,
     "metadata": {},
     "output_type": "execute_result"
    }
   ],
   "source": [
    "train_data[0:2]"
   ]
  },
  {
   "cell_type": "code",
   "execution_count": 67,
   "metadata": {},
   "outputs": [],
   "source": [
    "import csv\n",
    "with open('./data/train_taxdata_0102.csv', \"w\", newline='') as f:\n",
    "    writer = csv.writer(f)\n",
    "    for i in range(len(train_data)):\n",
    "        writer.writerows(train_data[i])\n",
    "    f.close()"
   ]
  },
  {
   "cell_type": "code",
   "execution_count": 69,
   "metadata": {},
   "outputs": [
    {
     "name": "stdout",
     "output_type": "stream",
     "text": [
      "[['c', 'o', 'n', 't', 'e', 'n', 't'], ['l', 'a', 'b', 'e', 'l']]\n"
     ]
    }
   ],
   "source": [
    "train_text = []\n",
    "with open(\"./data/train_taxdata_0102.csv\",'r') as fr:\n",
    "    reader = csv.reader(fr)\n",
    "    for item in reader:\n",
    "        train_text.append(item)\n",
    "print(train_text[0:2])"
   ]
  },
  {
   "cell_type": "code",
   "execution_count": 71,
   "metadata": {},
   "outputs": [
    {
     "name": "stdout",
     "output_type": "stream",
     "text": [
      "[['name', 'age'], ['Bob', '14']]\n"
     ]
    }
   ],
   "source": [
    "datas = [['name', 'age'],\n",
    "         ['Bob', 14],\n",
    "         ['Tom', 23],\n",
    "        ['Jerry', '18']]\n",
    "\n",
    "with open('example.csv', 'w', newline='') as f:\n",
    "    writer = csv.writer(f)\n",
    "    for row in datas:\n",
    "        writer.writerow(row)\n",
    "    f.close()\n",
    "    \n",
    "train_text = []\n",
    "with open(\"example.csv\",'r') as fr:\n",
    "    reader = csv.reader(fr)\n",
    "    for item in reader:\n",
    "        train_text.append(item)\n",
    "print(train_text[0:2])"
   ]
  },
  {
   "cell_type": "code",
   "execution_count": null,
   "metadata": {},
   "outputs": [],
   "source": []
  },
  {
   "cell_type": "code",
   "execution_count": null,
   "metadata": {},
   "outputs": [],
   "source": []
  },
  {
   "cell_type": "code",
   "execution_count": null,
   "metadata": {},
   "outputs": [],
   "source": []
  },
  {
   "cell_type": "code",
   "execution_count": 18,
   "metadata": {},
   "outputs": [],
   "source": [
    "with open('./pickle/content_list_0102.pickle', 'wb') as file:\n",
    "    pickle.dump(data_featrue_list, file)\n",
    "with open('./pickle/label_list_0102.pickle', 'wb') as file:\n",
    "    pickle.dump(new_class_list, file)\n"
   ]
  },
  {
   "cell_type": "code",
   "execution_count": null,
   "metadata": {
    "collapsed": true
   },
   "outputs": [],
   "source": []
  },
  {
   "cell_type": "code",
   "execution_count": null,
   "metadata": {
    "collapsed": true
   },
   "outputs": [],
   "source": []
  }
 ],
 "metadata": {
  "kernelspec": {
   "display_name": "Python 3",
   "language": "python",
   "name": "python3"
  },
  "language_info": {
   "codemirror_mode": {
    "name": "ipython",
    "version": 3
   },
   "file_extension": ".py",
   "mimetype": "text/x-python",
   "name": "python",
   "nbconvert_exporter": "python",
   "pygments_lexer": "ipython3",
   "version": "3.6.7"
  }
 },
 "nbformat": 4,
 "nbformat_minor": 2
}

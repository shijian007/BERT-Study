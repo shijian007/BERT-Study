{
 "cells": [
  {
   "cell_type": "code",
   "execution_count": 15,
   "metadata": {},
   "outputs": [],
   "source": [
    "import xlrd\n",
    "import os\n",
    "import random\n",
    "import jieba\n",
    "import pickle\n",
    "import csv\n",
    "from collections import Counter"
   ]
  },
  {
   "cell_type": "code",
   "execution_count": 16,
   "metadata": {},
   "outputs": [],
   "source": [
    "workbook = xlrd.open_workbook(r'./data/taxdata3_3.xlsx')\n",
    "\n",
    "# 获取第1张表\n",
    "sheet1 = workbook.sheet_by_index(0)\n",
    "sheet1_cols0 = sheet1.col_values(0) \n",
    "sheet1_cols1 = sheet1.col_values(1) \n",
    "sheet1_cols2 = sheet1.col_values(2) \n",
    "sheet1_cols3 = sheet1.col_values(3) \n",
    "sheet1_class_list = sheet1.col_values(4)\n",
    "sheet1_class_list = sheet1_class_list[1:]\n",
    "sheet1_col_length = len(sheet1_cols0)\n",
    "raw_data1_list = []\n",
    "for i in range(1, sheet1_col_length):\n",
    "    k = sheet1_cols0[i] + sheet1_cols1[i] + sheet1_cols2[i] + sheet1_cols3[i]\n",
    "    raw_data1_list.append(k.replace(\"\\n\",\"\"))\n",
    "\n",
    "# 获取第2张表\n",
    "sheet2 = workbook.sheet_by_index(1)\n",
    "sheet2_cols0 = sheet2.col_values(0) \n",
    "sheet2_cols1 = sheet2.col_values(1) \n",
    "sheet2_cols2 = sheet2.col_values(2) \n",
    "sheet2_cols3 = sheet2.col_values(3) \n",
    "sheet2_class_list = sheet2.col_values(4)\n",
    "sheet2_class_list = sheet2_class_list[1:]\n",
    "sheet2_col_length = len(sheet2_cols0)\n",
    "raw_data2_list = []\n",
    "for i in range(1, sheet2_col_length):\n",
    "    k = sheet2_cols0[i] + sheet2_cols1[i] + sheet2_cols2[i] + sheet2_cols3[i]\n",
    "    raw_data2_list.append(k.replace(\"\\n\",\"\"))\n",
    "\n",
    "# 获取第3张表\n",
    "sheet3 = workbook.sheet_by_index(2)\n",
    "sheet3_cols0 = sheet3.col_values(0) \n",
    "sheet3_cols1 = sheet3.col_values(1) \n",
    "sheet3_cols2 = sheet3.col_values(2) \n",
    "sheet3_cols3 = sheet3.col_values(3) \n",
    "sheet3_class_list = sheet3.col_values(4)\n",
    "sheet3_class_list = sheet3_class_list[1:]\n",
    "sheet3_col_length = len(sheet3_cols0)\n",
    "raw_data3_list = []\n",
    "for i in range(1, sheet3_col_length):\n",
    "    k = sheet3_cols0[i] + sheet3_cols1[i] + sheet3_cols2[i] + sheet3_cols3[i]\n",
    "    raw_data3_list.append(k.replace(\"\\n\",\"\"))\n",
    "\n",
    "#data 集合\n",
    "raw_data_list = []\n",
    "raw_data_list.extend(raw_data1_list)\n",
    "raw_data_list.extend(raw_data2_list)\n",
    "raw_data_list.extend(raw_data3_list)\n",
    "\n",
    "#class 集合\n",
    "class_list = []\n",
    "class_list.extend(sheet1_class_list)\n",
    "class_list.extend(sheet2_class_list)\n",
    "class_list.extend(sheet3_class_list)"
   ]
  },
  {
   "cell_type": "code",
   "execution_count": 17,
   "metadata": {},
   "outputs": [
    {
     "name": "stdout",
     "output_type": "stream",
     "text": [
      "class type total: 4\n"
     ]
    }
   ],
   "source": [
    "'''\n",
    "综合税种=综合，两个类的、所得税=综合，发票管理、发票管理管理=发票，财务类=企业会计准则，财务类，\n",
    "个税=个人所得税，环境保护税=环保税，土地使用税=城镇土地使用税，\n",
    "教育费附加、城建税、教育费附加=附加税费，\n",
    "出口退税=进出口税收，税收风险=税务风险\n",
    "'''\n",
    "for i in range(len(class_list)):\n",
    "    if class_list[i] == '' or class_list[i] == '工业企业':\n",
    "        class_list[i] = \"未分类\"\n",
    "    if class_list[i]=='综合税种' or class_list[i]=='多税种' or class_list[i]=='所得税' or (' ' in class_list[i]) or ('，' in class_list[i]) or ('、' in class_list[i]) or ('\\u3000' in class_list[i]):\n",
    "        class_list[i] = \"综合\"\n",
    "    class_list[i] = class_list[i].replace(' ', '')\n",
    "    class_list[i] = class_list[i].replace('\\n', '')\n",
    "    if class_list[i] == '发票管理' or class_list[i] == '发票管理管理':\n",
    "        class_list[i] = \"发票\"\n",
    "    if class_list[i] == '企业会计准则，财务类':\n",
    "        class_list[i] = \"财务类\"\n",
    "    if class_list[i] == '土地使用税':\n",
    "        class_list[i] = \"城镇土地使用税\"\n",
    "    if class_list[i] == '附加税' or class_list[i] == '教育费附加' or class_list[i] == '城建税':\n",
    "        class_list[i] = \"附加税费\"\n",
    "    if class_list[i] == '出口退税':\n",
    "        class_list[i] = \"进出口税收\"   \n",
    "    if class_list[i] == '税收风险':\n",
    "        class_list[i] = \"税务风险\"\n",
    "    if class_list[i] == '印花':\n",
    "        class_list[i] = \"印花税\"\n",
    "    if class_list[i] == '纳税社保' or class_list[i] == '社保' or class_list[i] == '个税' or class_list[i] == '个人所得说' or class_list[i] == '新个税':\n",
    "        class_list[i] = \"个人所得税\"   \n",
    "    if class_list[i] == '营改增' or class_list[i] == '增值况':\n",
    "        class_list[i] = \"增值税\"    \n",
    "    if class_list[i] == '环保税':\n",
    "        class_list[i] = \"环境保护税\" \n",
    "    if class_list[i] == '企业所得呼'or class_list[i] == '企业所得税法':\n",
    "        class_list[i] = \"企业所得税\" \n",
    "    if class_list[i] == '土增税':\n",
    "        class_list[i] = \"土地增值税\"\n",
    "    if class_list[i] == '营改增':\n",
    "        class_list[i] = \"增值税\"\n",
    "    if class_list[i] == '税收优惠' or class_list[i] == '税务登记' or class_list[i] == '税务风险' or class_list[i] == '税务变更' or class_list[i] == '税务注销' or class_list[i] == '税务征管':\n",
    "        class_list[i] = \"税收征管\"\n",
    "    if class_list[i] == '申报征收':\n",
    "        class_list[i] = '纳税申报'\n",
    "    if class_list[i] == '关税':\n",
    "        class_list[i] = \"涉外税收\"\n",
    "        \n",
    "c = Counter(class_list)\n",
    "topn_class = 4       #取最多class的类别\n",
    "data_number = 1001     #取data数目\n",
    "class_type_list = [k[0] for k in c.most_common(topn_class)]\n",
    "class_type_len = len(list(c.most_common(topn_class)))\n",
    "print(\"class type total:\", class_type_len)\n",
    "\n",
    "data_class_list = list(zip(raw_data_list, class_list))  # zip压缩合并，将数据与标签对应压缩\n",
    "random.shuffle(data_class_list)  # 将data_class_list乱序 \n",
    "raw_data_list, class_list = zip(*data_class_list)  \n",
    "\n",
    "\n",
    "#取最多类别的前n个样本\n",
    "new_class_list = []\n",
    "new_data_list = []\n",
    "#todo: 每个类别取k个样本试试看\n",
    "count_n = [1 for i in range(class_type_len)]        \n",
    "for i in range(class_type_len):\n",
    "    for j in range(len(class_list)):\n",
    "        if class_list[j] == class_type_list[i] and count_n[i] < data_number:\n",
    "            new_class_list.append(class_list[j])\n",
    "            new_data_list.append(raw_data_list[j])\n",
    "            count_n[i] += 1"
   ]
  },
  {
   "cell_type": "code",
   "execution_count": 18,
   "metadata": {
    "scrolled": true
   },
   "outputs": [
    {
     "data": {
      "text/plain": [
       "[('企业所得税', 2502),\n",
       " ('增值税', 2428),\n",
       " ('个人所得税', 1611),\n",
       " ('综合', 1055),\n",
       " ('发票', 854),\n",
       " ('税收征管', 759),\n",
       " ('财务类', 621),\n",
       " ('印花税', 418),\n",
       " ('房产税', 309),\n",
       " ('进出口税收', 294),\n",
       " ('消费税', 239),\n",
       " ('契税', 214),\n",
       " ('未分类', 213),\n",
       " ('土地增值税', 210)]"
      ]
     },
     "execution_count": 18,
     "metadata": {},
     "output_type": "execute_result"
    }
   ],
   "source": [
    "c.most_common(14)"
   ]
  },
  {
   "cell_type": "code",
   "execution_count": 19,
   "metadata": {},
   "outputs": [
    {
     "name": "stdout",
     "output_type": "stream",
     "text": [
      "['企业所得税', '企业所得税']\n",
      "['已购买职业责任保险的税务师事务所如何计算抵扣保险受益年度的应提职业风险基金金额？\\u3000\\u3000根据《国家税务总局关于发布〈税务师事务所职业风险基金管理办法〉的公告》(国家税务总局公告2010年第14号)第六条规定：税务师事务所可以通过购买职业责任保险方式提高抵御职业责任风险的能力。    税务师事务所购买职业保险的，实际缴纳的保险费可以按以下公式计算抵扣保险受益年度的应提职业风险基金金额：可抵扣金额=本年度负担的保险费*5。    可抵扣金额大于或等于本年度应提职业风险基金金额的，本年度可以不再提取职业风险基金。    可抵扣金额小于本年度应提取职业风险基金金额的，应当按其差额提取职业风险基金。    税务师事务所以保险费抵扣应提职业风险基金金额的，应当于签订保险合同后1个月之内，将保单（含保险条款）复印件报所在地省注册税务师管理中心、省注册税务师协会备案。\\u3000\\u3000    第十五条规定：本办法自2010年10月1日起实施。', '企业销售房地产开发产品的收入确认时间是如何规定的？    根据《国家税务总局关于印发<房地产开发经营业务企业所得税处理办法>的通知》（国税发〔2009〕31号）第六条规定：“企业通过正式签订《房地产销售合同》或《房地产预售合同》所取得的收入，应确认为销售收入的实现，具体按以下规定确认：\\u3000\\u3000（一）采取一次性全额收款方式销售开发产品的，应于实际收讫价款或取得索取价款凭据（权利）之日，确认收入的实现。\\u3000\\u3000（二）采取分期收款方式销售开发产品的，应按销售合同或协议约定的价款和付款日确认收入的实现。付款方提前付款的，在实际付款日确认收入的实现。\\u3000\\u3000（三）采取银行按揭方式销售开发产品的，应按销售合同或协议约定的价款确定收入额，其首付款应于实际收到日确认收入的实现，余款在银行按揭贷款办理转账之日确认收入的实现。\\u3000\\u3000（四）采取委托方式销售开发产品的，应按以下原则确认收入的实现：    1.采取支付手续费方式委托销售开发产品的，应按销售合同或协议中约定的价款于收到受托方已销开发产品清单之日确认收入的实现。\\u3000\\u30002.采取视同买断方式委托销售开发产品的，属于企业与购买方签订销售合同或协议，或企业、受托方、购买方三方共同签订销售合同或协议的，如果销售合同或协议中约定的价格高于买断价格，则应按销售合同或协议中约定的价格计算的价款于收到受托方已销开发产品清单之日确认收入的实现；如果属于前两种情况中销售合同或协议中约定的价格低于买断价格，以及属于受托方与购买方签订销售合同或协议的，则应按买断价格计算的价款于收到受托方已销开发产品清单之日确认收入的实现。\\u3000\\u30003.采取基价（保底价）并实行超基价双方分成方式委托销售开发产品的，属于由企业与购买方签订销售合同或协议，或企业、受托方、购买方三方共同签订销售合同或协议的，如果销售合同或协议中约定的价格高于基价，则应按销售合同或协议中约定的价格计算的价款于收到受托方已销开发产品清单之日确认收入的实现，企业按规定支付受托方的分成额，不得直接从销售收入中减除；如果销售合同或协议约定的价格低于基价的，则应按基价计算的价款于收到受托方已销开发产品清单之日确认收入的实现。属于由受托方与购买方直接签订销售合同的，则应按基价加上按规定取得的分成额于收到受托方已销开发产品清单之日确认收入的实现。\\u3000\\u30004.采取包销方式委托销售开发产品的，包销期内可根据包销合同的有关约定，参照上述1至3项规定确认收入的实现；包销期满后尚未出售的开发产品，企业应根据包销合同或协议约定的价款和付款方式确认收入的实现。”   ——国税发〔2009〕31号《国家税务总局关于印发<房地产开发经营业务企业所得税处理办法>的通知》第六条']\n"
     ]
    }
   ],
   "source": [
    "print(new_class_list[199:201])\n",
    "print(new_data_list[199:201])"
   ]
  },
  {
   "cell_type": "code",
   "execution_count": 20,
   "metadata": {},
   "outputs": [
    {
     "name": "stderr",
     "output_type": "stream",
     "text": [
      "Building prefix dict from the default dictionary ...\n",
      "Dumping model to file cache /var/folders/wn/7md2z8rj1td41mc56_6lr3jr0000gn/T/jieba.cache\n",
      "Loading model cost 0.944 seconds.\n",
      "Prefix dict has been built succesfully.\n"
     ]
    }
   ],
   "source": [
    "#分词\n",
    "new_data_list_cut = []\n",
    "rowlength = len(new_data_list)\n",
    "for i in range(rowlength):\n",
    "    word_cut = jieba.cut(new_data_list[i], cut_all=False)\n",
    "    word_list = list(word_cut) \n",
    "    new_data_list_cut.append(word_list)\n"
   ]
  },
  {
   "cell_type": "code",
   "execution_count": 21,
   "metadata": {},
   "outputs": [],
   "source": [
    "def MakeWordsSet(words_file):\n",
    "    words_set = set()  \n",
    "    with open(words_file, 'r', encoding='utf-8') as f:  \n",
    "        for line in f.readlines():  \n",
    "            word = line.strip()  \n",
    "            if len(word) > 0:  \n",
    "                words_set.add(word)\n",
    "    return words_set  "
   ]
  },
  {
   "cell_type": "code",
   "execution_count": 22,
   "metadata": {},
   "outputs": [],
   "source": [
    "def words_dict(new_data_list, stopwords_set=set()):\n",
    "    data_featrue_list = []  \n",
    "    for t in range(1, len(new_data_list)):\n",
    "        # 如果不是指定的结束语，并且单词长度大于1小于5，作为特征词\n",
    "        if new_data_list[t] not in stopwords_set and 1 < len(new_data_list[t]) < 5:\n",
    "            data_featrue_list.append(new_data_list[t])\n",
    "    return data_featrue_list"
   ]
  },
  {
   "cell_type": "code",
   "execution_count": 23,
   "metadata": {},
   "outputs": [],
   "source": [
    "# 生成stopwords_set\n",
    "stopwords_file = './data/stopwords_cn.txt'\n",
    "stopwords_set = MakeWordsSet(stopwords_file)\n"
   ]
  },
  {
   "cell_type": "code",
   "execution_count": 24,
   "metadata": {},
   "outputs": [],
   "source": [
    "data_featrue_list = []\n",
    "for i in range(len(new_data_list_cut)):\n",
    "    data_featrue = words_dict(new_data_list_cut[i], stopwords_set)\n",
    "    data_featrue_list.append(data_featrue)"
   ]
  },
  {
   "cell_type": "code",
   "execution_count": 25,
   "metadata": {},
   "outputs": [],
   "source": [
    "# print(new_class_list[199:201])\n",
    "# print(data_featrue_list[199:201])"
   ]
  },
  {
   "cell_type": "code",
   "execution_count": 26,
   "metadata": {},
   "outputs": [
    {
     "data": {
      "text/plain": [
       "[('企业所得税', 1000), ('增值税', 1000), ('个人所得税', 1000), ('综合', 1000)]"
      ]
     },
     "execution_count": 26,
     "metadata": {},
     "output_type": "execute_result"
    }
   ],
   "source": [
    "cc = Counter(new_class_list)\n",
    "cc.most_common()"
   ]
  },
  {
   "cell_type": "code",
   "execution_count": 27,
   "metadata": {},
   "outputs": [
    {
     "data": {
      "text/plain": [
       "'企业所得税'"
      ]
     },
     "execution_count": 27,
     "metadata": {},
     "output_type": "execute_result"
    }
   ],
   "source": [
    "new_class_list[9]"
   ]
  },
  {
   "cell_type": "code",
   "execution_count": 28,
   "metadata": {},
   "outputs": [],
   "source": [
    "data_class_list = list(zip(data_featrue_list, new_class_list))  # zip压缩合并，将数据与标签对应压缩\n",
    "random.shuffle(data_class_list)  # 将data_class_list乱序\n",
    "index = int(len(data_class_list) * 0.25) + 1  # 训练集和测试集切分的索引值\n",
    "train_list = data_class_list[index:]  # 训练集\n",
    "test_list = data_class_list[:index]  # 测试集\n",
    "train_data_list, train_class_list = zip(*train_list)  # 训练集解压缩\n",
    "test_data_list, test_class_list = zip(*test_list)  # 测试集解压缩"
   ]
  },
  {
   "cell_type": "code",
   "execution_count": 29,
   "metadata": {
    "scrolled": true
   },
   "outputs": [
    {
     "name": "stdout",
     "output_type": "stream",
     "text": [
      "4000\n",
      "4000\n"
     ]
    }
   ],
   "source": [
    "print(len(data_featrue_list))\n",
    "print(len(new_class_list))"
   ]
  },
  {
   "cell_type": "code",
   "execution_count": 30,
   "metadata": {},
   "outputs": [
    {
     "name": "stdout",
     "output_type": "stream",
     "text": [
      "[['跨期', '发票', '费用', '处理', '问题', '实务', '存在', '大量', '业务', '发生', '12', '月底', '时间', '地域', '造成', '发票', '无法', '传递', '具体', '金额', '费用', '无法', '预知', '费用', '票据', '是否', '年度', '列支', '所得税', '扣除', '企业', '所得税法', '实施', '条例', '第九条', '规定', '企业', '纳税', '所得额', '计算', '权责', '发生', '原则', '属于', '当期', '收入', '费用', '款项', '是否', '收付', '当期', '收入', '费用', '属于', '当期', '收入', '费用', '款项', '已经', '当期', '收付', '当期', '收入', '费用', '企业', '所得税', '纳税', '所得额', '若干', '税务', '处理', '问题', '公告', '公告', '2012', '15', '第六条', '规定', '税收', '征收', '管理法', '规定', '企业', '发现', '以前年度', '实际', '发生', '税收', '规定', '企业', '所得税', '扣除', '扣除', '扣除', '支出', '企业', '做出', '专项', '申报', '说明', '准予', '追补', '至该', '项目', '发生', '年度', '计算', '扣除', '追补', '确认', '期限', '不得', '超过', '根据上述', '规定', '贵司', '2017', '发生', '费用', '需要', '2017', '企业', '所得税', '税前', '扣除', '权责', '发生', '原则', '应当', '发票', '税前', '扣除', '成本费用', '项目', '企业', '当年', '没有', '取得', '发票', '次年', '企业', '所得税', '汇算', '清缴', '期限', '取得', '发票', '该项', '成本费用', '发生', '年度', '税前', '扣除', '无需', '纳税', '调整'], '企业所得税']\n"
     ]
    }
   ],
   "source": [
    "print([data_featrue_list[i], new_class_list[4]])"
   ]
  },
  {
   "cell_type": "code",
   "execution_count": 31,
   "metadata": {},
   "outputs": [
    {
     "name": "stdout",
     "output_type": "stream",
     "text": [
      "['奖励财务人员返还是否缴税财政部若干政策问题通知1994财税字20文件规定办理代扣代缴税款手续按规定取得扣缴手续费暂免征收规定返还手续费发给办税人员办税人员享受免征若此财务人员办税相关人员文件认为需要就此返还收入缴纳', '个人所得税']\n",
      "['开发经营企业土地成本原则分配成本对象印发房地产开发经营业务企业所得税处理办法通知国税发200931第三十条规定企业下列成本以下方法进行分配土地成本一般占地面积进行分配确需结合方法进行分配应商税务机关同意土地开发连结房地产开发属于一次性取得土地分期开发房地产情况土地开发成本经商税务机关同意可先土地整体预算成本进行分配土地整体开发完毕再行调整国税发200931印发房地产开发经营业务企业所得税处理办法通知第三十条', '企业所得税']\n"
     ]
    }
   ],
   "source": [
    "train_data = []\n",
    "# train_data.append([\"content\", \"label\"])\n",
    "for i in range(len(train_data_list)):\n",
    "    k = ''.join(train_data_list[i])\n",
    "    train_data.append([k, train_class_list[i]])\n",
    "print(train_data[0])\n",
    "\n",
    "with open('./data/train_taxdata_0107_stopwords.csv', \"w\", newline='') as fw:\n",
    "    writer = csv.writer(fw)\n",
    "    for row in train_data:\n",
    "        writer.writerow(row)\n",
    "    fw.close()\n",
    "    \n",
    "train_text = []\n",
    "with open(\"./data/train_taxdata_0107_stopwords.csv\",'r') as f:\n",
    "    reader = csv.reader(f)\n",
    "    for item in reader:\n",
    "        train_text.append(list(item))\n",
    "fw.close()\n",
    "print(train_text[1])"
   ]
  },
  {
   "cell_type": "code",
   "execution_count": 33,
   "metadata": {},
   "outputs": [
    {
     "name": "stdout",
     "output_type": "stream",
     "text": [
      "['请教支付国外佣金纳税支付国外佣金视为贵司提供服务收取服务费属于非贸付范畴以下情况分析提供劳务发生地全境贵司对外支付需要代扣代缴6%税率增值税增值税附加提供劳务发生地境内贵司对外支付需要代扣代缴6%税率增值税增值税附加劳务报酬所得代扣代缴', '综合']\n",
      "['实施国家重点扶持公共基础设施项目企业所得税优惠问题通知中所称内部自用实施国家重点扶持公共基础设施项目企业所得税优惠问题通知国税发200980规定企业从事承包经营承包建设内部自用目录规定项目所得不得享受前款规定企业所得税优惠通知内部自用项目建设企业主体经营业务设施满足企业生产经营活动需要属于提供公共服务业务公共基础设施建设项目国税发200980实施国家重点扶持公共基础设施项目企业所得税优惠问题通知', '企业所得税']\n"
     ]
    }
   ],
   "source": [
    "dev_data = []\n",
    "# dev_data.append([\"content\", \"label\"])\n",
    "for i in range(len(test_data_list)):\n",
    "    k = ''.join(test_data_list[i])\n",
    "    dev_data.append([k, test_class_list[i]])\n",
    "print(dev_data[0])\n",
    "\n",
    "with open('./data/dev_taxdata_0107_stopwords.csv', \"w\", newline='') as fw:\n",
    "    writer = csv.writer(fw)\n",
    "    for row in dev_data:\n",
    "        writer.writerow(row)\n",
    "    fw.close()\n",
    "    \n",
    "dev_text = []\n",
    "with open(\"./data/dev_taxdata_0107_stopwords.csv\",'r') as f:\n",
    "    reader = csv.reader(f)\n",
    "    for item in reader:\n",
    "        dev_text.append(list(item))\n",
    "fw.close()\n",
    "print(dev_text[1])\n"
   ]
  },
  {
   "cell_type": "code",
   "execution_count": null,
   "metadata": {},
   "outputs": [],
   "source": []
  },
  {
   "cell_type": "code",
   "execution_count": null,
   "metadata": {},
   "outputs": [],
   "source": []
  },
  {
   "cell_type": "code",
   "execution_count": null,
   "metadata": {},
   "outputs": [],
   "source": []
  },
  {
   "cell_type": "code",
   "execution_count": null,
   "metadata": {},
   "outputs": [],
   "source": []
  },
  {
   "cell_type": "code",
   "execution_count": 5,
   "metadata": {},
   "outputs": [
    {
     "name": "stdout",
     "output_type": "stream",
     "text": [
      "b'Hello, TensorFlow!'\n"
     ]
    }
   ],
   "source": [
    "import tensorflow as tf\n",
    "hello = tf.constant('Hello, TensorFlow!')\n",
    "sess = tf.Session()\n",
    "print(sess.run(hello))"
   ]
  },
  {
   "cell_type": "code",
   "execution_count": 8,
   "metadata": {},
   "outputs": [],
   "source": [
    "from tensorflow.python import pywrap_tensorflow"
   ]
  },
  {
   "cell_type": "code",
   "execution_count": 10,
   "metadata": {},
   "outputs": [
    {
     "ename": "ModuleNotFoundError",
     "evalue": "No module named 'swig'",
     "output_type": "error",
     "traceback": [
      "\u001b[0;31m---------------------------------------------------------------------------\u001b[0m",
      "\u001b[0;31mModuleNotFoundError\u001b[0m                       Traceback (most recent call last)",
      "\u001b[0;32m<ipython-input-10-51b4245364f8>\u001b[0m in \u001b[0;36m<module>\u001b[0;34m()\u001b[0m\n\u001b[0;32m----> 1\u001b[0;31m \u001b[0;32mimport\u001b[0m \u001b[0mswig\u001b[0m\u001b[0;34m\u001b[0m\u001b[0;34m\u001b[0m\u001b[0m\n\u001b[0m",
      "\u001b[0;31mModuleNotFoundError\u001b[0m: No module named 'swig'"
     ]
    }
   ],
   "source": []
  },
  {
   "cell_type": "code",
   "execution_count": 6,
   "metadata": {},
   "outputs": [
    {
     "name": "stdout",
     "output_type": "stream",
     "text": [
      "/Users/xiezhijun/anaconda3/lib/python3.6/site-packages/tensorflow/__init__.py\n"
     ]
    }
   ],
   "source": [
    "print(tf.__file__)"
   ]
  },
  {
   "cell_type": "code",
   "execution_count": 103,
   "metadata": {},
   "outputs": [
    {
     "name": "stdout",
     "output_type": "stream",
     "text": [
      "[[ 0.08143956  0.24072137  0.17423196 ... -0.20935664 -0.00765664\n",
      "   0.00987268]\n",
      " [-0.32008436  0.6250418  -0.46648058 ...  0.09882972  0.02564905\n",
      "  -0.17454903]\n",
      " [-0.10663307  0.77239317 -0.2586998  ...  0.10752412  0.06072805\n",
      "  -0.6352674 ]]\n",
      "768\n"
     ]
    }
   ],
   "source": [
    "from bert_serving.client import BertClient\n",
    "bc = BertClient()\n",
    "embedding = bc.encode(['somebody', 'book', 'sunday'])\n",
    "print(embedding)\n",
    "print(len(embedding[1]))"
   ]
  },
  {
   "cell_type": "code",
   "execution_count": null,
   "metadata": {},
   "outputs": [],
   "source": []
  },
  {
   "cell_type": "code",
   "execution_count": null,
   "metadata": {},
   "outputs": [],
   "source": []
  },
  {
   "cell_type": "code",
   "execution_count": 92,
   "metadata": {},
   "outputs": [
    {
     "name": "stdout",
     "output_type": "stream",
     "text": [
      "3.6.7 |Anaconda custom (64-bit)| (default, Oct 23 2018, 14:01:38) \n",
      "[GCC 4.2.1 Compatible Clang 4.0.1 (tags/RELEASE_401/final)]\n",
      "sys.version_info(major=3, minor=6, micro=7, releaselevel='final', serial=0)\n",
      "['', '/Users/xiezhijun/anaconda3/lib/python36.zip', '/Users/xiezhijun/anaconda3/lib/python3.6', '/Users/xiezhijun/anaconda3/lib/python3.6/lib-dynload', '/Users/xiezhijun/anaconda3/lib/python3.6/site-packages', '/Users/xiezhijun/anaconda3/lib/python3.6/site-packages/aeosa', '/Users/xiezhijun/anaconda3/lib/python3.6/site-packages/xgboost-0.7-py3.6.egg', '/Users/xiezhijun/anaconda3/lib/python3.6/site-packages/IPython/extensions', '/Users/xiezhijun/.ipython']\n"
     ]
    }
   ],
   "source": [
    "import sys\n",
    "print(sys.version)\n",
    "print(sys.version_info)\n",
    "print(sys.path)"
   ]
  },
  {
   "cell_type": "code",
   "execution_count": 97,
   "metadata": {},
   "outputs": [
    {
     "data": {
      "text/plain": [
       "'/Users/xiezhijun/anaconda3/bin/python'"
      ]
     },
     "execution_count": 97,
     "metadata": {},
     "output_type": "execute_result"
    }
   ],
   "source": [
    "import sys\n",
    "sys.executable"
   ]
  },
  {
   "cell_type": "code",
   "execution_count": null,
   "metadata": {},
   "outputs": [],
   "source": []
  },
  {
   "cell_type": "code",
   "execution_count": 11,
   "metadata": {},
   "outputs": [],
   "source": [
    "from __future__ import absolute_import\n",
    "from __future__ import division\n",
    "from __future__ import print_function\n",
    "\n",
    "import collections\n",
    "import csv\n",
    "import os\n",
    "import modeling\n",
    "import optimization\n",
    "import tokenization\n",
    "import tensorflow as tf\n",
    "import platform\n",
    "import numpy as np\n",
    "from sklearn.metrics import classification_report, confusion_matrix\n",
    "import pickle"
   ]
  },
  {
   "cell_type": "code",
   "execution_count": 13,
   "metadata": {},
   "outputs": [],
   "source": [
    "flags = tf.flags\n",
    "\n",
    "FLAGS = flags.FLAGS\n",
    "flags.DEFINE_string(\n",
    "    \"data_dir\", None,\n",
    "    \"The input data dir. Should contain the .tsv files (or other data files) \"\n",
    "    \"for the task.\")"
   ]
  },
  {
   "cell_type": "code",
   "execution_count": 14,
   "metadata": {},
   "outputs": [],
   "source": [
    "flags.mark_flag_as_required(\"data_dir\")"
   ]
  },
  {
   "cell_type": "code",
   "execution_count": null,
   "metadata": {},
   "outputs": [],
   "source": []
  },
  {
   "cell_type": "code",
   "execution_count": null,
   "metadata": {},
   "outputs": [],
   "source": []
  },
  {
   "cell_type": "code",
   "execution_count": null,
   "metadata": {},
   "outputs": [],
   "source": []
  }
 ],
 "metadata": {
  "kernelspec": {
   "display_name": "Python 3",
   "language": "python",
   "name": "python3"
  },
  "language_info": {
   "codemirror_mode": {
    "name": "ipython",
    "version": 3
   },
   "file_extension": ".py",
   "mimetype": "text/x-python",
   "name": "python",
   "nbconvert_exporter": "python",
   "pygments_lexer": "ipython3",
   "version": "3.6.7"
  }
 },
 "nbformat": 4,
 "nbformat_minor": 2
}
